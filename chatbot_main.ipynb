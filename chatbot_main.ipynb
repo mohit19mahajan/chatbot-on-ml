{
 "cells": [
  {
   "cell_type": "code",
   "execution_count": 1,
   "metadata": {},
   "outputs": [],
   "source": [
    "import pandas as pd\n",
    "import numpy as np\n",
    "\n",
    "import nltk\n",
    "from nltk.stem import PorterStemmer\n",
    "## To be executed once\n",
    "# nltk.download('punkt')\n",
    "# nltk.download('stopwords')\n",
    "import re\n",
    "import pickle\n",
    "import time\n",
    "from colorama import Fore, Back, Style\n",
    "\n",
    "from sklearn.preprocessing import LabelEncoder\n",
    "from sklearn.naive_bayes import MultinomialNB\n",
    "from sklearn import metrics\n",
    "\n",
    "\n",
    "import urllib.request\n",
    "import webbrowser"
   ]
  },
  {
   "cell_type": "code",
   "execution_count": 2,
   "metadata": {},
   "outputs": [],
   "source": [
    "from nltk.corpus import stopwords\n",
    "#quit_words = ['quit', 'bye', 'thanks', 'exit', 'thankyou', 'thank you', 'thanku']\n",
    "# sanjay\n",
    "quit_words = ['quit', 'bye', 'thanks', 'exit', 'thankyou', 'thanku', 'goodbye', 'later', 'laters', \"sayonara\"]\n",
    "\n",
    "greetings = [\"hello\",\"hey\",\"hi\",\"hello\",\"howareyou\",\"bot\"\n",
    "                 \"howsitgoing\",\"help\",\"ineedsomehelp\",\"ineedhelp\",\n",
    "                 \"hithere\",\"hellothere\",\"hichatbot\",\"higreatlearning\",\n",
    "                 \"higreatlearning\",\"anybodythere\",\"areyouachatbot\",\n",
    "                 \"areyouhuman\",\"greetings\",\"nicetomeetyou\",\"whatsup\",\n",
    "                 \"goodmorning\",\"goodafternoon\",\"goodevening\",\n",
    "                 \"goodnight\",\"areyoureal\",\"youreamachine\",\"tellmesomething\",\n",
    "                 \"whatcanyoudo\",\"howcanyouhelpme\",\"ihaveaquestion\",\n",
    "                 \"canyouhelpme\",\"whatsyourname\",\"greetingsbot\",\"morning\",\n",
    "                 \"afternoon\",\"hellochatbot\",\"check\",\"test\",\"howdy\",\n",
    "                 \"morning\",\"afternoon\",\"evening\",\"heyman\",\"howsyourdaygoing\"\n",
    "                 \"itsbeenawhile\",\"howareyoudoing\",\"sup\",\"whatsgoingon\",\n",
    "                 \"howseverything\",\"howarethings\",\"howslife\",\"howsyourday\"\n",
    "                 \"goodtoseeyou\",\"nicetoseeyou\",\"longtimenosee\",\n",
    "                 \"pleasedtomeetyou\",\"itsnicetomeetyou\",\"howhaveyoubeen\",\n",
    "                 \"howdoyoudo\",\"yo\",\"heymate\",\"whazzup\",\"gdaymate\",\n",
    "                 \"hiya\",\"ok\",\"cool\"\n",
    "            ]\n",
    "\n",
    "fallback_messages = [\"Sorry, I don't quite understand that. Please try rephrasing your command.\",\n",
    "                     \"Oops! I didn’t get that\", \n",
    "                     \"I have never heard that before. Not sure how to respond to that.\",\n",
    "                     \"Sorry, I didn't get that. Can you say that a different way ?\",\n",
    "                     \"Sorry but I don’t know the answer to that. Try asking me something else.\",\n",
    "                     \"Sorry I am currently not trained for this question.\"]\n",
    "\n",
    "# root to be used as random state\n",
    "root = 42"
   ]
  },
  {
   "cell_type": "code",
   "execution_count": 3,
   "metadata": {},
   "outputs": [],
   "source": [
    "# ## Spelling correction\n",
    "# import re\n",
    "# from collections import Counter\n",
    "\n",
    "# def words(text): return re.findall(r'\\w+', text.lower())\n",
    "\n",
    "# WORDS = Counter(words(open('big_ml.txt', encoding=\"utf8\").read()))\n",
    "\n",
    "# def P(word, N=sum(WORDS.values())): \n",
    "#     \"Probability of `word`.\"\n",
    "#     return WORDS[word] / N\n",
    "\n",
    "# def correction(word): \n",
    "#     \"Most probable spelling correction for word.\"\n",
    "#     return max(candidates(word), key=P)\n",
    "\n",
    "# def candidates(word): \n",
    "#     \"Generate possible spelling corrections for word.\"\n",
    "#     return (known([word]) or known(edits1(word)) or known(edits2(word)) or [word])\n",
    "\n",
    "# def known(words): \n",
    "#     \"The subset of `words` that appear in the dictionary of WORDS.\"\n",
    "#     return set(w for w in words if w in WORDS)\n",
    "\n",
    "# def edits1(word):\n",
    "#     \"All edits that are one edit away from `word`.\"\n",
    "#     letters    = 'abcdefghijklmnopqrstuvwxyz'\n",
    "#     splits     = [(word[:i], word[i:])    for i in range(len(word) + 1)]\n",
    "#     deletes    = [L + R[1:]               for L, R in splits if R]\n",
    "#     transposes = [L + R[1] + R[0] + R[2:] for L, R in splits if len(R)>1]\n",
    "#     replaces   = [L + c + R[1:]           for L, R in splits if R for c in letters]\n",
    "#     inserts    = [L + c + R               for L, R in splits for c in letters]\n",
    "#     return set(deletes + transposes + replaces + inserts)\n",
    "\n",
    "# def edits2(word): \n",
    "#     \"All edits that are two edits away from `word`.\"\n",
    "#     return (e2 for e1 in edits1(word) for e2 in edits1(e1))\n",
    "\n",
    "# def print_fallback_message(i):\n",
    "#     num_of_msgs = len(fallback_messages)\n",
    "#     idx = i % num_of_msgs\n",
    "#     print(fallback_messages[idx])"
   ]
  },
  {
   "cell_type": "code",
   "execution_count": 4,
   "metadata": {},
   "outputs": [],
   "source": [
    "# speling correction new code\n",
    "import re, collections, math\n",
    "import re \n",
    "from collections import Counter\n",
    "\n",
    "def words(text): return re.findall('[a-z]+', text.lower())\n",
    "\n",
    "WORDS = Counter(words(open('big_ml.txt', encoding=\"utf8\").read()))\n",
    "\n",
    "def P(word, N=sum(WORDS.values())): \n",
    "    \"Probability of `word`.\"\n",
    "    return WORDS[word] / N\n",
    "\n",
    "def valid(w):\n",
    "  return all(s in WORDS for s in w.split())\n",
    "\n",
    "def correction(word): \n",
    "    \"Most probable spelling correction for word.\"\n",
    "    return max(candidates(word), key=P)\n",
    "\n",
    "def candidates(word): \n",
    "    \"Generate possible spelling corrections for word.\"\n",
    "    return (known([word]) or known(edits1(word)) or known(edits2(word)) or known(justsplit1(word)) or [word])\n",
    "\n",
    "alphabet = 'abcdefghijklmnopqrstuvwxyz '\n",
    "\n",
    "def known(words): return set(w for w in words if valid(w))\n",
    "\n",
    "def edits1(word):\n",
    "  splits     = [(word[:i], word[i:]) for i in range(len(word) + 1)]\n",
    "  deletes    = [a + b[1:] for a, b in splits if b]\n",
    "  transposes = [a + b[1] + b[0] + b[2:] for a, b in splits if len(b)>1]\n",
    "  replaces   = [a + c + b[1:] for a, b in splits for c in alphabet if b]\n",
    "  inserts    = [a + c + b     for a, b in splits for c in alphabet]\n",
    "  return set(deletes + transposes + replaces + inserts)\n",
    "\n",
    "def edits2(word): \n",
    "    \"All edits that are two edits away from `word`.\"\n",
    "    return (e2 for e1 in edits1(word) for e2 in edits1(e1))\n",
    "\n",
    "def justsplit1(word):\n",
    "    \"All edits that are one edit away from `word`.\"\n",
    "    splits     = [(word[:i], word[i:])    for i in range(len(word) + 1)]\n",
    "    #deletes    = [L + R[1:]               for L, R in splits if R]\n",
    "    deletes    = [L               for L, R in splits if R]\n",
    "    deletes1    = [R               for L, R in splits if R]\n",
    "    return set(deletes + deletes1)"
   ]
  },
  {
   "cell_type": "code",
   "execution_count": 5,
   "metadata": {},
   "outputs": [],
   "source": [
    "# Common functions definition\n",
    "\n",
    "def cleanText(s1):\n",
    "#    print(\"Inside cleanText for:\", s1)  ##debug\n",
    "    ps = PorterStemmer()\n",
    "    text = s1.lower()\n",
    "    text = re.sub(r'[0-9]*','',text)\n",
    "    text = re.sub(\"[#$%&*@?><:\\\"]+\",'',text)\n",
    "    text = re.sub(r'\\s\\s+',' ',text)\n",
    "    word_list = []\n",
    "    for word in nltk.word_tokenize(text):\n",
    "        \n",
    "#        print(\"Original word:\", word)  ## debug print\n",
    "        word = correction(word)\n",
    "#        print(\"corrected word:\", word)  ##debug print\n",
    "#        if(word not in stopwords.words('english')):\n",
    "        ps.stem(word)\n",
    "        word_list.append(word)\n",
    "    text = word_list\n",
    "#    print('from clean text:', word_list)  ## debug\n",
    "    text = ' '.join(text)\n",
    "#    print(\"Final sentence:\", text)  ## debug print\n",
    "    return text\n",
    "\n",
    "# After prediction convert tag to response\n",
    "def getResponse(tag):\n",
    "    try:\n",
    "        if(resp_dict[tag]):\n",
    "            response = resp_dict[tag]\n",
    "            return response\n",
    "        else:\n",
    "            print('Response not found.. Please try another query.')\n",
    "    except:\n",
    "        print('Response not found for:', tag)\n",
    "        print('I will update my knowledge soon :)')\n",
    "\n",
    "def process_response(response):\n",
    "    if(response[0:4]=='Link'):\n",
    "        url = response[5:]\n",
    "#        webbrowser.open(url)\n",
    "        print(\"Bot: Please check this link {}\".format(url))\n",
    "    else:\n",
    "        print(\"Bot: \", response)\n",
    "\n",
    "def store_new_query(query):\n",
    "#    print(\"Inside store_new_query function\")  ##debug\n",
    "    with open(\"non_corpus_queries.txt\", \"a\") as f:\n",
    "        str = inp_text + \"\\n\"\n",
    "        f.write(str)\n",
    "#SANJAY\n",
    "def clean_greeting(user_input: str):\n",
    "#    print(\"Inside clean_greeting function:\", user_input)  ##debug\n",
    "    \n",
    "    ps = PorterStemmer()\n",
    "    text = user_input.lower()\n",
    "    text = re.sub(r'[0-9]*','',text)\n",
    "    text = re.sub(\"[#$%&*@?><:\\\"]+\",'',text)\n",
    "    text = re.sub(r'\\s\\s+',' ',text)\n",
    "    word_list = []\n",
    "    for word in nltk.word_tokenize(text):\n",
    "        word = correction(word)\n",
    "        ps.stem(word)\n",
    "        word_list.append(word)\n",
    "    text = word_list\n",
    "    text = ' '.join(text)\n",
    "\n",
    "    cleaned_word = text\n",
    "    remove_spl_char = ''.join(e for e in cleaned_word if e.isalnum())\n",
    "    return ''.join([i for i in remove_spl_char if not i.isdigit()]) \n",
    "\n",
    "def print_fallback_message(i): \n",
    "    num_of_msgs = len(fallback_messages) \n",
    "    idx = i % num_of_msgs \n",
    "    print(fallback_messages[idx])"
   ]
  },
  {
   "cell_type": "code",
   "execution_count": 6,
   "metadata": {},
   "outputs": [],
   "source": [
    "df = pd.read_csv(\"Corpus_1.csv\")\n",
    "df.columns = ['query', 'response', 'tag']\n",
    "df = df.dropna()\n"
   ]
  },
  {
   "cell_type": "code",
   "execution_count": 7,
   "metadata": {},
   "outputs": [
    {
     "data": {
      "text/html": [
       "<div>\n",
       "<style scoped>\n",
       "    .dataframe tbody tr th:only-of-type {\n",
       "        vertical-align: middle;\n",
       "    }\n",
       "\n",
       "    .dataframe tbody tr th {\n",
       "        vertical-align: top;\n",
       "    }\n",
       "\n",
       "    .dataframe thead th {\n",
       "        text-align: right;\n",
       "    }\n",
       "</style>\n",
       "<table border=\"1\" class=\"dataframe\">\n",
       "  <thead>\n",
       "    <tr style=\"text-align: right;\">\n",
       "      <th></th>\n",
       "      <th>query</th>\n",
       "      <th>response</th>\n",
       "      <th>tag</th>\n",
       "    </tr>\n",
       "  </thead>\n",
       "  <tbody>\n",
       "    <tr>\n",
       "      <td>0</td>\n",
       "      <td>What is linear regression</td>\n",
       "      <td>Link:https://en.wikipedia.org/wiki/Linear_regr...</td>\n",
       "      <td>linear regression</td>\n",
       "    </tr>\n",
       "    <tr>\n",
       "      <td>1</td>\n",
       "      <td>Can you explain linear regression</td>\n",
       "      <td>Link:https://en.wikipedia.org/wiki/Linear_regr...</td>\n",
       "      <td>linear regression</td>\n",
       "    </tr>\n",
       "  </tbody>\n",
       "</table>\n",
       "</div>"
      ],
      "text/plain": [
       "                               query  \\\n",
       "0          What is linear regression   \n",
       "1  Can you explain linear regression   \n",
       "\n",
       "                                            response                tag  \n",
       "0  Link:https://en.wikipedia.org/wiki/Linear_regr...  linear regression  \n",
       "1  Link:https://en.wikipedia.org/wiki/Linear_regr...  linear regression  "
      ]
     },
     "execution_count": 7,
     "metadata": {},
     "output_type": "execute_result"
    }
   ],
   "source": [
    "df.head(2)"
   ]
  },
  {
   "cell_type": "code",
   "execution_count": 8,
   "metadata": {},
   "outputs": [],
   "source": [
    "df['transformed_query'] = df['query'].apply(cleanText)"
   ]
  },
  {
   "cell_type": "code",
   "execution_count": 9,
   "metadata": {},
   "outputs": [],
   "source": [
    "# Preparing list of queries to compare to later to store new queries\n",
    "query_list = df['query'].tolist()\n",
    "query_list = [i.lower() for i in query_list]"
   ]
  },
  {
   "cell_type": "code",
   "execution_count": 10,
   "metadata": {},
   "outputs": [],
   "source": [
    "# encoding the target column\n",
    "le = LabelEncoder()\n",
    "df['tag_encoded'] = le.fit_transform(df['tag'])"
   ]
  },
  {
   "cell_type": "code",
   "execution_count": 11,
   "metadata": {},
   "outputs": [],
   "source": [
    "# Converting with bag of words\n",
    "from sklearn.feature_extraction.text import CountVectorizer\n",
    "cv = CountVectorizer(ngram_range=(1, 2))\n",
    "X = cv.fit_transform(df['transformed_query']).toarray()\n",
    "\n",
    "y = df['tag_encoded']"
   ]
  },
  {
   "cell_type": "code",
   "execution_count": 12,
   "metadata": {},
   "outputs": [],
   "source": [
    "# Creating dataframe to visualize data\n",
    "temp_name = cv.get_feature_names()\n",
    "temp = pd.DataFrame(X, columns=temp_name)"
   ]
  },
  {
   "cell_type": "code",
   "execution_count": 13,
   "metadata": {},
   "outputs": [],
   "source": [
    "# Create dictionary for tag to response\n",
    "temp = df[['tag_encoded', 'response']]\n",
    "temp = temp.groupby(['tag_encoded']).max()\n",
    "resp_dict = temp.to_dict()\n",
    "resp_dict = resp_dict['response']"
   ]
  },
  {
   "cell_type": "code",
   "execution_count": null,
   "metadata": {},
   "outputs": [],
   "source": []
  },
  {
   "cell_type": "markdown",
   "metadata": {},
   "source": [
    "#### Test code"
   ]
  },
  {
   "cell_type": "code",
   "execution_count": 14,
   "metadata": {},
   "outputs": [],
   "source": [
    "test_file = pd.read_csv('test_set.csv')\n",
    "#test_file = pd.read_csv('gl_test_data.csv')\n",
    "test_file.columns = ['query', 'tag']\n",
    "Xt1 = cv.transform(test_file['query']).toarray()"
   ]
  },
  {
   "cell_type": "code",
   "execution_count": 15,
   "metadata": {},
   "outputs": [],
   "source": [
    "yt1 = le.transform(test_file['tag'])"
   ]
  },
  {
   "cell_type": "code",
   "execution_count": 16,
   "metadata": {},
   "outputs": [
    {
     "name": "stdout",
     "output_type": "stream",
     "text": [
      "Test File Accuracy 0.9662921348314607\n"
     ]
    }
   ],
   "source": [
    "## for testing accuracy of the test set\n",
    "import xgboost as xgb\n",
    "from xgboost import XGBClassifier\n",
    "from sklearn.ensemble import RandomForestClassifier\n",
    "\n",
    "model_xg = XGBClassifier(seed = 10)\n",
    "model_xg = model_xg.fit(X, y)\n",
    "y_pred_xg = model_xg.predict(Xt1)\n",
    "\n",
    "print(\"Test File Accuracy\",metrics.accuracy_score(yt1, y_pred_xg))\n",
    "\n",
    "with open(\"bot_model.pickle\",'wb') as f:\n",
    "    pickle.dump(model_xg,f)"
   ]
  },
  {
   "cell_type": "code",
   "execution_count": null,
   "metadata": {},
   "outputs": [],
   "source": []
  },
  {
   "cell_type": "markdown",
   "metadata": {},
   "source": [
    "#### Test code ends here"
   ]
  },
  {
   "cell_type": "code",
   "execution_count": null,
   "metadata": {},
   "outputs": [],
   "source": []
  },
  {
   "cell_type": "code",
   "execution_count": 17,
   "metadata": {},
   "outputs": [],
   "source": [
    "# # Fitting naive bayes algorithm\n",
    "# mnb = MultinomialNB()\n",
    "# model = mnb.fit(X, y)\n",
    "\n",
    "# y_pred = model.predict(X)\n",
    "# print(\"Validation Accuracy:\",metrics.accuracy_score(y, y_pred))\n",
    "\n",
    "# with open(\"bot_model.pickle\",'wb') as f:\n",
    "#     pickle.dump(model,f)"
   ]
  },
  {
   "cell_type": "code",
   "execution_count": 18,
   "metadata": {},
   "outputs": [
    {
     "name": "stdout",
     "output_type": "stream",
     "text": [
      "Validation Accuracy: 0.9702970297029703\n"
     ]
    }
   ],
   "source": [
    "# Xgboost predictor\n",
    "import xgboost as xgb\n",
    "from xgboost import XGBClassifier\n",
    "from sklearn.ensemble import RandomForestClassifier\n",
    "\n",
    "model_xg = XGBClassifier(seed = 10)\n",
    "model_xg = model_xg.fit(X, y)\n",
    "y_pred = model_xg.predict(X)\n",
    "\n",
    "print(\"Validation Accuracy:\",metrics.accuracy_score(y, y_pred))\n",
    "\n",
    "with open(\"bot_model.pickle\",'wb') as f:\n",
    "    pickle.dump(model_xg,f)"
   ]
  },
  {
   "cell_type": "code",
   "execution_count": 19,
   "metadata": {},
   "outputs": [],
   "source": [
    "# # Random forest classifier\n",
    "\n",
    "# model_rf = RandomForestClassifier()\n",
    "# model_rf = model_rf.fit(X, y)\n",
    "# y_pred = model_rf.predict(X)\n",
    "# print(\"Validation Accuracy:\",metrics.accuracy_score(y, y_pred))\n",
    "\n",
    "# with open(\"bot_model.pickle\",'wb') as f:\n",
    "#     pickle.dump(model_xg,f)"
   ]
  },
  {
   "cell_type": "code",
   "execution_count": null,
   "metadata": {},
   "outputs": [],
   "source": []
  },
  {
   "cell_type": "code",
   "execution_count": null,
   "metadata": {},
   "outputs": [],
   "source": []
  },
  {
   "cell_type": "markdown",
   "metadata": {},
   "source": [
    "### Model building ends here"
   ]
  },
  {
   "cell_type": "markdown",
   "metadata": {},
   "source": [
    "#### Test code starts"
   ]
  },
  {
   "cell_type": "code",
   "execution_count": 20,
   "metadata": {},
   "outputs": [],
   "source": [
    "# # Predict using model\n",
    "# def process_input(s1):\n",
    "# #    s1 = 'What is linear regression?'\n",
    "#     s1 = cleanText(s1)\n",
    "#     l1=[]\n",
    "#     l1.append(s1)\n",
    "#     ldf = pd.DataFrame(l1, columns= ['query'])\n",
    "#     return ldf"
   ]
  },
  {
   "cell_type": "code",
   "execution_count": 21,
   "metadata": {},
   "outputs": [
    {
     "name": "stdout",
     "output_type": "stream",
     "text": [
      "Input:                                query\n",
      "0  what is a artificial intelligence\n",
      "[1]\n",
      "0.9403897\n",
      "[[4.1096550e-04 9.4038969e-01 5.8081551e-03 1.5413587e-02 5.0302316e-04\n",
      "  1.8781050e-03 6.4883725e-04 4.0015430e-04 3.8893477e-04 1.0027901e-03\n",
      "  5.2074960e-04 1.4441305e-02 1.6805619e-03 1.0648635e-03 1.0002137e-03\n",
      "  8.3507597e-04 6.1427633e-04 5.3466193e-04 7.1490090e-03 1.2399477e-03\n",
      "  8.9397305e-04 1.1136874e-03 4.0607341e-04 4.1742570e-04 1.2438853e-03]]\n",
      "[ 0  1  2  3  4  5  6  7  8  9 10 11 12 13 14 15 16 17 18 19 20 21 22 23\n",
      " 24]\n",
      "Link:https://en.wikipedia.org/wiki/Artificial_intelligence\n"
     ]
    }
   ],
   "source": [
    "# # Test code to be removed\n",
    "# ss = 'what is a artifical intelligence'\n",
    "# query_df = process_input(ss)\n",
    "# X_test     = cv.transform(query_df['query']).toarray()\n",
    "# print(\"Input:\", query_df)\n",
    "# prediction = model_xg.predict(X_test)\n",
    "# prediction_proba = model_xg.predict_proba(X_test)\n",
    "# print(prediction)\n",
    "# print(prediction_proba.max())\n",
    "# print(prediction_proba)\n",
    "# print(model_xg.classes_)\n",
    "# resp       = getResponse(prediction[0])\n",
    "# print(resp)\n"
   ]
  },
  {
   "cell_type": "code",
   "execution_count": 22,
   "metadata": {},
   "outputs": [],
   "source": [
    "# from matplotlib import pyplot as plt\n",
    "# plt.bar(model_xg.classes_, prediction_proba[0])"
   ]
  },
  {
   "cell_type": "markdown",
   "metadata": {},
   "source": [
    "#### Testing code end here"
   ]
  },
  {
   "cell_type": "code",
   "execution_count": null,
   "metadata": {},
   "outputs": [],
   "source": []
  },
  {
   "cell_type": "markdown",
   "metadata": {},
   "source": [
    "### Start of prediction flow"
   ]
  },
  {
   "cell_type": "markdown",
   "metadata": {},
   "source": [
    "#### Using pickle"
   ]
  },
  {
   "cell_type": "code",
   "execution_count": 24,
   "metadata": {},
   "outputs": [],
   "source": [
    "# Trying pickle with model\n",
    "pickle_in = open('./bot_model.pickle','rb')\n",
    "classifier = pickle.load(pickle_in)\n",
    "pickle_in.close()"
   ]
  },
  {
   "cell_type": "markdown",
   "metadata": {},
   "source": [
    "### Original code to run for bot"
   ]
  },
  {
   "cell_type": "code",
   "execution_count": 25,
   "metadata": {},
   "outputs": [
    {
     "name": "stdout",
     "output_type": "stream",
     "text": [
      "\u001b[31mHello. I am your machine learning assistant\n",
      "I can help you with your learning journey.\n",
      "\u001b[36mYou can ask me questions around algorithms and learn new stuff!!\n",
      "\u001b[0m\n",
      "\u001b[0m\n",
      "User: hi\n",
      "\u001b[34m\n",
      "Hello! how can I help you ?\n",
      "\u001b[0m\n",
      "User: how\n",
      "\u001b[34m\n",
      "predicted value [11] with probability 0.2290353626012802\n",
      "Sorry, I don't quite understand that. Please try rephrasing your command.\n",
      "\u001b[0m\n",
      "User: bye\n",
      "\u001b[34m\n",
      "Do you want to quit? (yes/no)\n",
      "\u001b[0m\n",
      "User: yes\n",
      "\u001b[34m\n",
      "Thanks. See you again\n"
     ]
    }
   ],
   "source": [
    "# Landing message\n",
    "print(Fore.RED +  \"Hello. I am your machine learning assistant\")\n",
    "print(\"I can help you with your learning journey.\")\n",
    "print(Fore.CYAN + \"You can ask me questions around algorithms and learn new stuff!!\")\n",
    "print(Style.RESET_ALL)\n",
    "time.sleep(4)\n",
    "\n",
    "# Get input from user\n",
    "inp_text=''\n",
    "confirmation= ''\n",
    "i = 0\n",
    "context = 'predict'\n",
    "\n",
    "while(context != 'quit'):\n",
    "    print(Style.RESET_ALL)\n",
    "    context = 'predict'\n",
    "    inp_text = input('User: ')\n",
    "    print(Fore.BLUE)    \n",
    "### Sanjay\n",
    "#    print(\"Cleaned text:\", clean_greeting(inp_text))  ## debug\n",
    "    if (clean_greeting(inp_text) in quit_words):\n",
    "        context = 'quit'\n",
    "#    print(\"After checking quit words\", inp_text)  ##debug\n",
    "\n",
    "### Sanjay\n",
    "    if (clean_greeting(inp_text) in greetings):\n",
    "#         print(\"Setting context to greeting\")  ##debug\n",
    "        context = 'greeting'\n",
    "    \n",
    "#     print(\"After checking greeting words:\", inp_text, \", context:\", context)  ##debug\n",
    "\n",
    "    if(context != 'quit'):\n",
    "        if(context != 'greeting'):\n",
    "            if(inp_text.lower() not in query_list):\n",
    "                store_new_query(inp_text)\n",
    "            query_df   = process_input(inp_text)\n",
    "#            print(\"Input for model:\", query_df)    ##debug\n",
    "            X_test     = cv.transform(query_df['query']).toarray()\n",
    "            prediction = classifier.predict(X_test)\n",
    "            max_probab = classifier.predict_proba(X_test).max()\n",
    "            print(\"predicted value {} with probability {}\".format(prediction, max_probab))   ##debug\n",
    "            if (max_probab > .60):\n",
    "                resp       = getResponse(prediction[0])\n",
    "                process_response(resp)\n",
    "            else:\n",
    "                print_fallback_message(i)\n",
    "                i = i + 1\n",
    "        else:\n",
    "            if(inp_text.lower() in ['ok','cool']):\n",
    "                print(\"I am glad to assist you. You can ask me other questions.\")\n",
    "            else:\n",
    "                print(\"Hello! how can I help you ?\")\n",
    "    else:\n",
    "        print(\"Do you want to quit? (yes/no)\")\n",
    "        print(Style.RESET_ALL)\n",
    "        confirmation = input('User: ')\n",
    "#        print(\"confirm text:\",confirmation,\",\",confirmation.lower())   ##debug\n",
    "        print(Fore.BLUE)\n",
    "        if confirmation.lower() == 'yes':\n",
    "            context = 'quit'\n",
    "            print(\"Thanks. See you again\")\n",
    "        elif confirmation.lower() == 'no':\n",
    "#            print(\"Inside else\")   ##debug\n",
    "            context = 'predict'\n",
    "        else:\n",
    "            print(\"Valid response is yes/no.\")\n",
    "            print(\"You can ask me other questions. :)\")\n",
    "            context = 'predict'\n",
    "#        print(\"End of loop context:\", context)    ##debug\n"
   ]
  },
  {
   "cell_type": "code",
   "execution_count": null,
   "metadata": {},
   "outputs": [],
   "source": []
  },
  {
   "cell_type": "code",
   "execution_count": null,
   "metadata": {},
   "outputs": [],
   "source": []
  },
  {
   "cell_type": "code",
   "execution_count": 26,
   "metadata": {},
   "outputs": [],
   "source": [
    "# Response dictionary print for debugging\n",
    "# for a in resp_dict:\n",
    "#     print(a,resp_dict[a])\n"
   ]
  }
 ],
 "metadata": {
  "kernelspec": {
   "display_name": "Python 3",
   "language": "python",
   "name": "python3"
  },
  "language_info": {
   "codemirror_mode": {
    "name": "ipython",
    "version": 3
   },
   "file_extension": ".py",
   "mimetype": "text/x-python",
   "name": "python",
   "nbconvert_exporter": "python",
   "pygments_lexer": "ipython3",
   "version": "3.7.4"
  }
 },
 "nbformat": 4,
 "nbformat_minor": 2
}
